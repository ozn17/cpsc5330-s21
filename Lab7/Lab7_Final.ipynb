{
 "cells": [
  {
   "cell_type": "code",
   "execution_count": 1,
   "id": "8d8f6651",
   "metadata": {},
   "outputs": [
    {
     "data": {
      "application/vnd.jupyter.widget-view+json": {
       "model_id": "f6f8ef56d2634c9abed069344a37b0cf",
       "version_major": 2,
       "version_minor": 0
      },
      "text/plain": [
       "VBox()"
      ]
     },
     "metadata": {},
     "output_type": "display_data"
    },
    {
     "name": "stdout",
     "output_type": "stream",
     "text": [
      "Starting Spark application\n"
     ]
    },
    {
     "data": {
      "text/html": [
       "<table>\n",
       "<tr><th>ID</th><th>YARN Application ID</th><th>Kind</th><th>State</th><th>Spark UI</th><th>Driver log</th><th>Current session?</th></tr><tr><td>0</td><td>application_1621917982298_0001</td><td>pyspark</td><td>idle</td><td><a target=\"_blank\" href=\"http://ip-172-31-47-89.us-west-2.compute.internal:20888/proxy/application_1621917982298_0001/\" class=\"emr-proxy-link\" emr-resource=\"j-1U7U1ZCFJJ7JE\n",
       "\" application-id=\"application_1621917982298_0001\">Link</a></td><td><a target=\"_blank\" href=\"http://ip-172-31-38-136.us-west-2.compute.internal:8042/node/containerlogs/container_1621917982298_0001_01_000001/livy\" >Link</a></td><td>✔</td></tr></table>"
      ],
      "text/plain": [
       "<IPython.core.display.HTML object>"
      ]
     },
     "metadata": {},
     "output_type": "display_data"
    },
    {
     "data": {
      "application/vnd.jupyter.widget-view+json": {
       "model_id": "",
       "version_major": 2,
       "version_minor": 0
      },
      "text/plain": [
       "FloatProgress(value=0.0, bar_style='info', description='Progress:', layout=Layout(height='25px', width='50%'),…"
      ]
     },
     "metadata": {},
     "output_type": "display_data"
    },
    {
     "name": "stdout",
     "output_type": "stream",
     "text": [
      "SparkSession available as 'spark'.\n"
     ]
    },
    {
     "data": {
      "application/vnd.jupyter.widget-view+json": {
       "model_id": "",
       "version_major": 2,
       "version_minor": 0
      },
      "text/plain": [
       "FloatProgress(value=0.0, bar_style='info', description='Progress:', layout=Layout(height='25px', width='50%'),…"
      ]
     },
     "metadata": {},
     "output_type": "display_data"
    },
    {
     "name": "stdout",
     "output_type": "stream",
     "text": [
      "<SparkContext master=yarn appName=livy-session-0>"
     ]
    }
   ],
   "source": [
    "sc"
   ]
  },
  {
   "cell_type": "code",
   "execution_count": 2,
   "id": "be38dd4f",
   "metadata": {},
   "outputs": [
    {
     "data": {
      "application/vnd.jupyter.widget-view+json": {
       "model_id": "00f4f5bbf6474b67bd398aa69c8269c9",
       "version_major": 2,
       "version_minor": 0
      },
      "text/plain": [
       "VBox()"
      ]
     },
     "metadata": {},
     "output_type": "display_data"
    },
    {
     "data": {
      "application/vnd.jupyter.widget-view+json": {
       "model_id": "",
       "version_major": 2,
       "version_minor": 0
      },
      "text/plain": [
       "FloatProgress(value=0.0, bar_style='info', description='Progress:', layout=Layout(height='25px', width='50%'),…"
      ]
     },
     "metadata": {},
     "output_type": "display_data"
    }
   ],
   "source": [
    "textcorporalocation = 's3://cpsc5330s21/data-input/textcorpora-SMALL/'"
   ]
  },
  {
   "cell_type": "code",
   "execution_count": 3,
   "id": "9cbd0cf7",
   "metadata": {},
   "outputs": [
    {
     "data": {
      "application/vnd.jupyter.widget-view+json": {
       "model_id": "2a4774d84e8a4a3b90b9a99392e161a5",
       "version_major": 2,
       "version_minor": 0
      },
      "text/plain": [
       "VBox()"
      ]
     },
     "metadata": {},
     "output_type": "display_data"
    },
    {
     "data": {
      "application/vnd.jupyter.widget-view+json": {
       "model_id": "",
       "version_major": 2,
       "version_minor": 0
      },
      "text/plain": [
       "FloatProgress(value=0.0, bar_style='info', description='Progress:', layout=Layout(height='25px', width='50%'),…"
      ]
     },
     "metadata": {},
     "output_type": "display_data"
    }
   ],
   "source": [
    "import re\n",
    "def filename(path):\n",
    "  return re.match('s3://cpsc5330s21/data-input/textcorpora-SMALL/(.+)\\.txt', path)[1]\n",
    "\n",
    "def cleanUpString(token):\n",
    "    return \"\".join(filter(lambda c: 97 <= ord(c) <= 122 or c == \" \", token.lower()))\n",
    "    "
   ]
  },
  {
   "cell_type": "code",
   "execution_count": 4,
   "id": "a3b128fd",
   "metadata": {},
   "outputs": [
    {
     "data": {
      "application/vnd.jupyter.widget-view+json": {
       "model_id": "20d25ea0dce0479695b688dc987fe16a",
       "version_major": 2,
       "version_minor": 0
      },
      "text/plain": [
       "VBox()"
      ]
     },
     "metadata": {},
     "output_type": "display_data"
    },
    {
     "data": {
      "application/vnd.jupyter.widget-view+json": {
       "model_id": "",
       "version_major": 2,
       "version_minor": 0
      },
      "text/plain": [
       "FloatProgress(value=0.0, bar_style='info', description='Progress:', layout=Layout(height='25px', width='50%'),…"
      ]
     },
     "metadata": {},
     "output_type": "display_data"
    }
   ],
   "source": [
    "from pyspark.sql.functions import explode, col\n",
    "def indexDocuments(file_location):\n",
    "    f = sc.wholeTextFiles(file_location)\n",
    "    doc_id_and_all_its_terms = spark.createDataFrame(f.map(lambda t: (filename(t[0]), cleanUpString(t[1]).split())), [\"docid\", \"file_contents\"])\n",
    "    #  doc_id_with_split_text.take(1) would print: [('austen-emma', ['[Emma', 'by', \n",
    "    #           'Jane', 'Austen', '1816]', 'VOLUME', 'I', 'CHAPTER', \n",
    "    #           'I', 'Emma', 'Woodhouse,', 'handsome,', 'clever,', 'and',\n",
    "    #           'rich,', 'with', 'a', 'comfortable', 'home', 'and', 'happy',...         \n",
    "    # doc_id_with_split_text.take(1)\n",
    "    \n",
    "    docid_term_pair = doc_id_and_all_its_terms.select(doc_id_and_all_its_terms.docid, explode(doc_id_and_all_its_terms.file_contents)).withColumnRenamed(\"col\", \"term\")\n",
    "    #docid_term_pair.show()\n",
    "    # +-----------+-----------+\n",
    "    # |      docid|       term|\n",
    "    # +-----------+-----------+\n",
    "    # |austen-emma|       emma|\n",
    "    # |austen-emma|         by|\n",
    "    # |austen-emma|       jane|\n",
    "    # |austen-emma|     austen|\n",
    "    \n",
    "    #from pyspark.sql.functions import groupBy\n",
    "    doc_id_term_token_counts = docid_term_pair.groupBy(\"docid\", \"term\").count().withColumnRenamed(\"count\", \"docid_term_count\")\n",
    "    #doc_id_term_token_counts.show()\n",
    "    # +-----------+--------------+----------------+\n",
    "    # |      docid|          term|docid_term_count|\n",
    "    # +-----------+--------------+----------------+\n",
    "    # |austen-emma|            on|             572|\n",
    "    # |austen-emma|          busy|              18|\n",
    "    # |austen-emma|         feels|              10|\n",
    "    # |austen-emma|         askme|               1|\n",
    "    \n",
    "    docid_term_count = docid_term_pair.groupBy(\"docid\").count().withColumnRenamed(\"count\", \"all_token_count\")\n",
    "    #docid_term_count.orderBy(col(\"all_token_count\").desc()).show()\n",
    "    # +-------------------+---------------+\n",
    "    # |              docid|all_token_count|\n",
    "    # +-------------------+---------------+\n",
    "    # |          bible-kjv|         740800|\n",
    "    # | melville-moby_dick|         192326|\n",
    "    # |        austen-emma|         143896|\n",
    "    # |     whitman-leaves|         111016|\n",
    "    \n",
    "    term_idf = doc_id_term_token_counts.groupBy(\"term\").count().withColumnRenamed(\"count\", \"term_in_num_docs_count\")\n",
    "    #term_idf.sort(col(\"term\")).show()\n",
    "    # +------------------+----------------------+\n",
    "    # |              term|term_in_num_docs_count|\n",
    "    # +------------------+----------------------+\n",
    "    # |                 a|                    10|\n",
    "    # |             aaron|                     2|\n",
    "    # |          aaronand|                     1|\n",
    "    # |         aaronites|                     1|\n",
    "    # |         aaronmade|                     1|\n",
    "    # |        aaronnadab|                     1|\n",
    "    \n",
    "    pre_tfidf_calc = doc_id_term_token_counts.\\\n",
    "        join(term_idf, [\"term\"]).\\\n",
    "        join(docid_term_count, [\"docid\"])\n",
    "    \n",
    "    tfidf = pre_tfidf_calc.\\\n",
    "        withColumn(\"tfidf\", 1000000*(pre_tfidf_calc.docid_term_count/pre_tfidf_calc.all_token_count)/pre_tfidf_calc.term_in_num_docs_count).\\\n",
    "        select([\"term\", \"docid\", \"tfidf\"])\n",
    "    \n",
    "    return tfidf\n"
   ]
  },
  {
   "cell_type": "code",
   "execution_count": 5,
   "id": "30c50b8e",
   "metadata": {},
   "outputs": [
    {
     "data": {
      "application/vnd.jupyter.widget-view+json": {
       "model_id": "8b97e608128a461ba0b49e41ed251546",
       "version_major": 2,
       "version_minor": 0
      },
      "text/plain": [
       "VBox()"
      ]
     },
     "metadata": {},
     "output_type": "display_data"
    },
    {
     "data": {
      "application/vnd.jupyter.widget-view+json": {
       "model_id": "",
       "version_major": 2,
       "version_minor": 0
      },
      "text/plain": [
       "FloatProgress(value=0.0, bar_style='info', description='Progress:', layout=Layout(height='25px', width='50%'),…"
      ]
     },
     "metadata": {},
     "output_type": "display_data"
    },
    {
     "name": "stdout",
     "output_type": "stream",
     "text": [
      "+--------------+---------+------------------+\n",
      "|          term|    docid|             tfidf|\n",
      "+--------------+---------+------------------+\n",
      "|acceptableunto|bible-kjv| 1.349892008639309|\n",
      "|adonijahthough|bible-kjv| 1.349892008639309|\n",
      "|     ammonites|bible-kjv| 24.29805615550756|\n",
      "|      andadmah|bible-kjv| 1.349892008639309|\n",
      "|         anyof|bible-kjv| 4.724622030237581|\n",
      "|      aphekand|bible-kjv| 1.349892008639309|\n",
      "|     arguments|bible-kjv|0.2699784017278618|\n",
      "|  arrayhimself|bible-kjv| 1.349892008639309|\n",
      "|           art|bible-kjv| 75.25647948164146|\n",
      "|      ashkenaz|bible-kjv| 1.349892008639309|\n",
      "|        atroop|bible-kjv| 2.699784017278618|\n",
      "|    avengedhim|bible-kjv| 1.349892008639309|\n",
      "|      bedriven|bible-kjv| 1.349892008639309|\n",
      "|   bemagnified|bible-kjv| 1.349892008639309|\n",
      "|         besom|bible-kjv| 1.349892008639309|\n",
      "|      blackish|bible-kjv|0.6749460043196545|\n",
      "|       blossom|bible-kjv| 1.687365010799136|\n",
      "|        brands|bible-kjv|0.6749460043196545|\n",
      "|      burnwith|bible-kjv| 1.349892008639309|\n",
      "|       campall|bible-kjv| 1.349892008639309|\n",
      "+--------------+---------+------------------+\n",
      "only showing top 20 rows"
     ]
    }
   ],
   "source": [
    "myindex = indexDocuments(textcorporalocation)\n",
    "myindex.persist()\n",
    "myindex.show()"
   ]
  },
  {
   "cell_type": "code",
   "execution_count": 46,
   "id": "7c4f08a1",
   "metadata": {},
   "outputs": [
    {
     "data": {
      "application/vnd.jupyter.widget-view+json": {
       "model_id": "b6b936ebbe164a8c97995c09044a6af3",
       "version_major": 2,
       "version_minor": 0
      },
      "text/plain": [
       "VBox()"
      ]
     },
     "metadata": {},
     "output_type": "display_data"
    },
    {
     "data": {
      "application/vnd.jupyter.widget-view+json": {
       "model_id": "",
       "version_major": 2,
       "version_minor": 0
      },
      "text/plain": [
       "FloatProgress(value=0.0, bar_style='info', description='Progress:', layout=Layout(height='25px', width='50%'),…"
      ]
     },
     "metadata": {},
     "output_type": "display_data"
    }
   ],
   "source": [
    "from pprint import pprint\n",
    "def relevence(str_to_check, tfidf_index):\n",
    "    split_string = str_to_check.split()\n",
    "    tokens = list(filter(lambda t: t != \"\", [\"\".join(filter(lambda c: 97 <= ord(c) <= 122, x.lower())) for x in split_string]))\n",
    "    matched_tfidf = tfidf_index.filter(tfidf_index.term.isin(tokens)).groupBy(\"docid\").sum(\"tfidf\").withColumnRenamed('sum(tfidf)', \"tfidf\").sort(col(\"tfidf\").desc()).take(5)\n",
    "    \n",
    "#     matched_tfidf = matched_tfidf.map(lambda t: (t[0], t[1]))\n",
    "    \n",
    "    return [(t[0], t[1]) for t in matched_tfidf]"
   ]
  },
  {
   "cell_type": "code",
   "execution_count": 45,
   "id": "da55fd68",
   "metadata": {},
   "outputs": [
    {
     "data": {
      "application/vnd.jupyter.widget-view+json": {
       "model_id": "1651ab31427c4af0bc32bc440891ef74",
       "version_major": 2,
       "version_minor": 0
      },
      "text/plain": [
       "VBox()"
      ]
     },
     "metadata": {},
     "output_type": "display_data"
    },
    {
     "data": {
      "application/vnd.jupyter.widget-view+json": {
       "model_id": "",
       "version_major": 2,
       "version_minor": 0
      },
      "text/plain": [
       "FloatProgress(value=0.0, bar_style='info', description='Progress:', layout=Layout(height='25px', width='50%'),…"
      ]
     },
     "metadata": {},
     "output_type": "display_data"
    },
    {
     "name": "stdout",
     "output_type": "stream",
     "text": [
      "buster, whale, king, and alice the rabbit!\n",
      "[('carroll-alice', 20947.509101801927),\n",
      " ('burgess-busterbrown', 19291.14965380133),\n",
      " ('bible-kjv', 14077.483801295897),\n",
      " ('whitman-leaves', 12235.673736718632),\n",
      " ('blake-poems', 11262.520382017236)]\n",
      "\n",
      "Take a whale to lunch this week!\n",
      "[('melville-moby_dick', 6169.3860077853915),\n",
      " ('carroll-alice', 5557.859809207797),\n",
      " ('austen-emma', 5458.803580363596),\n",
      " ('chesterton-brown', 5247.206767087348),\n",
      " ('burgess-busterbrown', 4641.118804414889)]\n",
      "\n",
      "What would Jesus do about that?\n",
      "[('burgess-busterbrown', 2797.0110372249264),\n",
      " ('shakespeare-caesar', 2553.9314242243113),\n",
      " ('austen-emma', 2310.0016678712404),\n",
      " ('carroll-alice', 2260.47283284944),\n",
      " ('bible-kjv', 2229.2791576673867)]\n",
      "\n",
      "My name is Buster.  Deal with it.\n",
      "[('burgess-busterbrown', 15441.342095211978),\n",
      " ('shakespeare-caesar', 3958.2918244006114),\n",
      " ('blake-poems', 3437.4896010116136),\n",
      " ('whitman-leaves', 3334.75454989471),\n",
      " ('austen-emma', 3270.9690684894995)]\n",
      "\n",
      "Bodice ripper?\n",
      "[]\n",
      "\n",
      "What are leaves of grass anyway?\n",
      "[('bible-kjv', 4644.288456923447),\n",
      " ('whitman-leaves', 4643.574900114499),\n",
      " ('melville-moby_dick', 3500.4223153511343),\n",
      " ('chesterton-brown', 3260.740271641796),\n",
      " ('milton-paradise', 3179.1471480089726)]\n",
      "\n",
      "??!?\n",
      "[]"
     ]
    }
   ],
   "source": [
    "from pprint import pprint\n",
    "for query in [\"buster, whale, king, and alice the rabbit!\",\n",
    "               \"Take a whale to lunch this week!\",\n",
    "              \"What would Jesus do about that?\",\n",
    "              \"My name is Buster.  Deal with it.\",\n",
    "              \"Bodice ripper?\",\n",
    "              \"What are leaves of grass anyway?\",\n",
    "              \"??!?\"]:\n",
    "    print(query)\n",
    "    pprint(relevence(query, myindex))\n",
    "    print()"
   ]
  },
  {
   "cell_type": "code",
   "execution_count": null,
   "id": "38245553",
   "metadata": {},
   "outputs": [],
   "source": []
  }
 ],
 "metadata": {
  "kernelspec": {
   "display_name": "PySpark",
   "language": "",
   "name": "pysparkkernel"
  },
  "language_info": {
   "codemirror_mode": {
    "name": "python",
    "version": 3
   },
   "mimetype": "text/x-python",
   "name": "pyspark",
   "pygments_lexer": "python3"
  }
 },
 "nbformat": 4,
 "nbformat_minor": 5
}
