{
 "cells": [
  {
   "cell_type": "code",
   "execution_count": 0,
   "metadata": {
    "application/vnd.databricks.v1+cell": {
     "inputWidgets": {},
     "nuid": "39ad5fe4-cc71-43b3-b4c5-dfd2a2690d50",
     "showTitle": false,
     "title": ""
    }
   },
   "outputs": [],
   "source": [
    "%fs ls /FileStore/tables/textcorpora"
   ]
  },
  {
   "cell_type": "code",
   "execution_count": 0,
   "metadata": {
    "application/vnd.databricks.v1+cell": {
     "inputWidgets": {},
     "nuid": "ab07bc4a-5b99-4b08-bd2b-ac7e1d945ee5",
     "showTitle": false,
     "title": ""
    }
   },
   "outputs": [],
   "source": [
    "f = sc.wholeTextFiles('/FileStore/tables/textcorpora')"
   ]
  },
  {
   "cell_type": "code",
   "execution_count": 0,
   "metadata": {
    "application/vnd.databricks.v1+cell": {
     "inputWidgets": {},
     "nuid": "233f772a-a721-4ccb-aec9-619f44c90aab",
     "showTitle": false,
     "title": ""
    }
   },
   "outputs": [],
   "source": [
    "f.take(1)"
   ]
  },
  {
   "cell_type": "code",
   "execution_count": 0,
   "metadata": {
    "application/vnd.databricks.v1+cell": {
     "inputWidgets": {},
     "nuid": "54bef20e-a104-4322-bad2-4fb97fbc9e7b",
     "showTitle": false,
     "title": ""
    }
   },
   "outputs": [],
   "source": [
    "import re\n",
    "def filename(path):\n",
    "  return re.match('dbfs:/FileStore/tables/textcorpora/(.+)\\.txt', path)[1]"
   ]
  },
  {
   "cell_type": "code",
   "execution_count": 0,
   "metadata": {
    "application/vnd.databricks.v1+cell": {
     "inputWidgets": {},
     "nuid": "6fcca810-8f9d-4605-84e2-75532912eb5d",
     "showTitle": false,
     "title": ""
    }
   },
   "outputs": [],
   "source": [
    "f2 = f.map(lambda t: (filename(t[0]), t[1]))"
   ]
  },
  {
   "cell_type": "code",
   "execution_count": 0,
   "metadata": {
    "application/vnd.databricks.v1+cell": {
     "inputWidgets": {},
     "nuid": "84f4fc10-cc44-4c99-bc49-7edaf4d13f58",
     "showTitle": false,
     "title": ""
    }
   },
   "outputs": [],
   "source": [
    "f3 = f2.map(lambda t: (t[0], t[1].split()))"
   ]
  },
  {
   "cell_type": "code",
   "execution_count": 0,
   "metadata": {
    "application/vnd.databricks.v1+cell": {
     "inputWidgets": {},
     "nuid": "5b9d656a-d2c4-4b36-83cb-8d27bb37e05e",
     "showTitle": false,
     "title": ""
    }
   },
   "outputs": [],
   "source": [
    "def tokenPairs(docid, tokens):\n",
    "  return [(docid, token) for token in tokens]"
   ]
  },
  {
   "cell_type": "code",
   "execution_count": 0,
   "metadata": {
    "application/vnd.databricks.v1+cell": {
     "inputWidgets": {},
     "nuid": "bce164e9-1b87-4704-97cb-87717d07a389",
     "showTitle": false,
     "title": ""
    }
   },
   "outputs": [],
   "source": [
    "f4 = f3.flatMap(lambda t: tokenPairs(t[0], t[1]))"
   ]
  },
  {
   "cell_type": "code",
   "execution_count": 0,
   "metadata": {
    "application/vnd.databricks.v1+cell": {
     "inputWidgets": {},
     "nuid": "77c7e4e0-cd02-4d81-bf6e-a39c5cd69471",
     "showTitle": false,
     "title": ""
    }
   },
   "outputs": [],
   "source": [
    "f4.take(10)"
   ]
  },
  {
   "cell_type": "code",
   "execution_count": 0,
   "metadata": {
    "application/vnd.databricks.v1+cell": {
     "inputWidgets": {},
     "nuid": "0d12b321-0bb9-41ec-9911-1bf1202de930",
     "showTitle": false,
     "title": ""
    }
   },
   "outputs": [],
   "source": [
    "f5 = f4.map(lambda t: (t[0], t[1].lower()))"
   ]
  },
  {
   "cell_type": "code",
   "execution_count": 0,
   "metadata": {
    "application/vnd.databricks.v1+cell": {
     "inputWidgets": {},
     "nuid": "a3a694af-9fed-40f2-8f22-dff88eae6a99",
     "showTitle": false,
     "title": ""
    }
   },
   "outputs": [],
   "source": [
    "f5.take(5)"
   ]
  },
  {
   "cell_type": "code",
   "execution_count": 0,
   "metadata": {
    "application/vnd.databricks.v1+cell": {
     "inputWidgets": {},
     "nuid": "c8ad5b5e-6bac-4136-833c-20f1e227423a",
     "showTitle": false,
     "title": ""
    }
   },
   "outputs": [],
   "source": [
    "f6 = f5.map(lambda t: (t[0], \"\".join(filter(lambda c: 97 <= ord(c) <= 122, t[1]))))"
   ]
  },
  {
   "cell_type": "code",
   "execution_count": 0,
   "metadata": {
    "application/vnd.databricks.v1+cell": {
     "inputWidgets": {},
     "nuid": "f4adef4b-3791-4688-89ff-f36bdba68496",
     "showTitle": false,
     "title": ""
    }
   },
   "outputs": [],
   "source": [
    "f6.take(5)"
   ]
  },
  {
   "cell_type": "code",
   "execution_count": 0,
   "metadata": {
    "application/vnd.databricks.v1+cell": {
     "inputWidgets": {},
     "nuid": "ae71df1a-13d9-4caf-94e5-38bf32661e19",
     "showTitle": false,
     "title": ""
    }
   },
   "outputs": [],
   "source": [
    "# f7 -- ('austen_emma', 'emma')\n",
    "f7 = f6.filter(lambda t: len(t[1]) > 0)\n",
    "f7.cache()"
   ]
  },
  {
   "cell_type": "code",
   "execution_count": 0,
   "metadata": {
    "application/vnd.databricks.v1+cell": {
     "inputWidgets": {},
     "nuid": "216a9e5f-3898-404d-9b99-25704e92f1aa",
     "showTitle": false,
     "title": ""
    }
   },
   "outputs": [],
   "source": [
    "f7.take(5)"
   ]
  },
  {
   "cell_type": "code",
   "execution_count": 0,
   "metadata": {
    "application/vnd.databricks.v1+cell": {
     "inputWidgets": {},
     "nuid": "ec28a135-cf87-4a81-a48e-b75f6b809a0e",
     "showTitle": false,
     "title": ""
    }
   },
   "outputs": [],
   "source": [
    "f7.count()"
   ]
  }
 ],
 "metadata": {
  "application/vnd.databricks.v1+notebook": {
   "dashboards": [],
   "language": "python",
   "notebookMetadata": {
    "pythonIndentUnit": 2
   },
   "notebookName": "TFIDF",
   "notebookOrigID": 1098148901829343,
   "widgets": {}
  },
  "kernelspec": {
   "display_name": "Python 3",
   "language": "python",
   "name": "python3"
  },
  "language_info": {
   "codemirror_mode": {
    "name": "ipython",
    "version": 3
   },
   "file_extension": ".py",
   "mimetype": "text/x-python",
   "name": "python",
   "nbconvert_exporter": "python",
   "pygments_lexer": "ipython3",
   "version": "3.7.0"
  }
 },
 "nbformat": 4,
 "nbformat_minor": 1
}
