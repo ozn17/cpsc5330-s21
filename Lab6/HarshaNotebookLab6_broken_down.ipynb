{
 "cells": [
  {
   "cell_type": "code",
   "execution_count": 2,
   "id": "006101b1",
   "metadata": {},
   "outputs": [
    {
     "data": {
      "application/vnd.jupyter.widget-view+json": {
       "model_id": "fd03c6ef98254e65988fa8b737b43977",
       "version_major": 2,
       "version_minor": 0
      },
      "text/plain": [
       "VBox()"
      ]
     },
     "metadata": {},
     "output_type": "display_data"
    },
    {
     "data": {
      "application/vnd.jupyter.widget-view+json": {
       "model_id": "",
       "version_major": 2,
       "version_minor": 0
      },
      "text/plain": [
       "FloatProgress(value=0.0, bar_style='info', description='Progress:', layout=Layout(height='25px', width='50%'),…"
      ]
     },
     "metadata": {},
     "output_type": "display_data"
    },
    {
     "name": "stdout",
     "output_type": "stream",
     "text": [
      "<SparkContext master=yarn appName=livy-session-4>"
     ]
    }
   ],
   "source": [
    "sc"
   ]
  },
  {
   "cell_type": "code",
   "execution_count": 3,
   "id": "6550d1e2",
   "metadata": {},
   "outputs": [
    {
     "data": {
      "application/vnd.jupyter.widget-view+json": {
       "model_id": "787c615ef10241178c223820eff79db3",
       "version_major": 2,
       "version_minor": 0
      },
      "text/plain": [
       "VBox()"
      ]
     },
     "metadata": {},
     "output_type": "display_data"
    },
    {
     "data": {
      "application/vnd.jupyter.widget-view+json": {
       "model_id": "",
       "version_major": 2,
       "version_minor": 0
      },
      "text/plain": [
       "FloatProgress(value=0.0, bar_style='info', description='Progress:', layout=Layout(height='25px', width='50%'),…"
      ]
     },
     "metadata": {},
     "output_type": "display_data"
    }
   ],
   "source": [
    "f = sc.wholeTextFiles('s3://cpsc5330s21/data-input/textcorpora-SMALL/')"
   ]
  },
  {
   "cell_type": "code",
   "execution_count": 4,
   "id": "096768e4",
   "metadata": {},
   "outputs": [
    {
     "data": {
      "application/vnd.jupyter.widget-view+json": {
       "model_id": "55d3bacde61e4ecca4999ab059c607b0",
       "version_major": 2,
       "version_minor": 0
      },
      "text/plain": [
       "VBox()"
      ]
     },
     "metadata": {},
     "output_type": "display_data"
    },
    {
     "data": {
      "application/vnd.jupyter.widget-view+json": {
       "model_id": "",
       "version_major": 2,
       "version_minor": 0
      },
      "text/plain": [
       "FloatProgress(value=0.0, bar_style='info', description='Progress:', layout=Layout(height='25px', width='50%'),…"
      ]
     },
     "metadata": {},
     "output_type": "display_data"
    }
   ],
   "source": [
    "import re\n",
    "def filename(path):\n",
    "  return re.match('s3://cpsc5330s21/data-input/textcorpora-SMALL/(.+)\\.txt', path)[1]"
   ]
  },
  {
   "cell_type": "code",
   "execution_count": 5,
   "id": "996f4e42",
   "metadata": {},
   "outputs": [
    {
     "data": {
      "application/vnd.jupyter.widget-view+json": {
       "model_id": "de877bf1f3b64df48e131c2f2133dcaf",
       "version_major": 2,
       "version_minor": 0
      },
      "text/plain": [
       "VBox()"
      ]
     },
     "metadata": {},
     "output_type": "display_data"
    },
    {
     "data": {
      "application/vnd.jupyter.widget-view+json": {
       "model_id": "",
       "version_major": 2,
       "version_minor": 0
      },
      "text/plain": [
       "FloatProgress(value=0.0, bar_style='info', description='Progress:', layout=Layout(height='25px', width='50%'),…"
      ]
     },
     "metadata": {},
     "output_type": "display_data"
    }
   ],
   "source": [
    "doc_id_and_all_its_terms = f.map(lambda t: (filename(t[0]), t[1].split()))"
   ]
  },
  {
   "cell_type": "code",
   "execution_count": 6,
   "id": "37bd3444",
   "metadata": {},
   "outputs": [
    {
     "data": {
      "application/vnd.jupyter.widget-view+json": {
       "model_id": "d873abdfc68646458e5227e0c7d788c5",
       "version_major": 2,
       "version_minor": 0
      },
      "text/plain": [
       "VBox()"
      ]
     },
     "metadata": {},
     "output_type": "display_data"
    },
    {
     "data": {
      "application/vnd.jupyter.widget-view+json": {
       "model_id": "",
       "version_major": 2,
       "version_minor": 0
      },
      "text/plain": [
       "FloatProgress(value=0.0, bar_style='info', description='Progress:', layout=Layout(height='25px', width='50%'),…"
      ]
     },
     "metadata": {},
     "output_type": "display_data"
    }
   ],
   "source": [
    "def tokenPairs(docid, tokens):\n",
    "  out = []\n",
    "  for token in tokens:\n",
    "    item = \"\".join(filter(lambda c: 97 <= ord(c) <= 122, token.lower()))\n",
    "    if item != \"\":\n",
    "        out.append((docid, item,))\n",
    "  return out"
   ]
  },
  {
   "cell_type": "code",
   "execution_count": 7,
   "id": "5ad32d1f",
   "metadata": {},
   "outputs": [
    {
     "data": {
      "application/vnd.jupyter.widget-view+json": {
       "model_id": "a4a281209e6f493ca3079234fdb0d1c2",
       "version_major": 2,
       "version_minor": 0
      },
      "text/plain": [
       "VBox()"
      ]
     },
     "metadata": {},
     "output_type": "display_data"
    },
    {
     "data": {
      "application/vnd.jupyter.widget-view+json": {
       "model_id": "",
       "version_major": 2,
       "version_minor": 0
      },
      "text/plain": [
       "FloatProgress(value=0.0, bar_style='info', description='Progress:', layout=Layout(height='25px', width='50%'),…"
      ]
     },
     "metadata": {},
     "output_type": "display_data"
    },
    {
     "name": "stdout",
     "output_type": "stream",
     "text": [
      "[('austen-emma', 'emma'), ('austen-emma', 'by'), ('austen-emma', 'jane')]"
     ]
    }
   ],
   "source": [
    "doc_id_term_token = doc_id_and_all_its_terms.flatMap(lambda t: tokenPairs(t[0], t[1])) # [('austen-emma', 'emma'), ('austen-emma', 'by'), ('austen-emma', 'jane'),\n",
    "doc_id_term_token.take(3)"
   ]
  },
  {
   "cell_type": "code",
   "execution_count": 8,
   "id": "19903fc2",
   "metadata": {},
   "outputs": [
    {
     "data": {
      "application/vnd.jupyter.widget-view+json": {
       "model_id": "243f7718cbd5407f9f6a49045f8bade9",
       "version_major": 2,
       "version_minor": 0
      },
      "text/plain": [
       "VBox()"
      ]
     },
     "metadata": {},
     "output_type": "display_data"
    },
    {
     "data": {
      "application/vnd.jupyter.widget-view+json": {
       "model_id": "",
       "version_major": 2,
       "version_minor": 0
      },
      "text/plain": [
       "FloatProgress(value=0.0, bar_style='info', description='Progress:', layout=Layout(height='25px', width='50%'),…"
      ]
     },
     "metadata": {},
     "output_type": "display_data"
    },
    {
     "name": "stdout",
     "output_type": "stream",
     "text": [
      "[(('austen-emma', 'emma'), 751), (('austen-emma', 'by'), 567), (('austen-emma', 'austen'), 1), (('austen-emma', 'volume'), 3), (('austen-emma', 'woodhouse'), 263)]"
     ]
    }
   ],
   "source": [
    "doc_id_term_token_counts = doc_id_term_token.map(lambda item: ((item[0] ,item[1]), 1,)).reduceByKey(lambda a,b: a+b) # [(('austen-emma', 'emma'), 751), (('austen-emma', 'by'), 567), (('austen-emma', 'austen'), 1),\n",
    "doc_id_term_token_counts.take(5)"
   ]
  },
  {
   "cell_type": "code",
   "execution_count": 9,
   "id": "554b0ea6",
   "metadata": {},
   "outputs": [
    {
     "data": {
      "application/vnd.jupyter.widget-view+json": {
       "model_id": "31e0a631bd0f43aca386a879f85e2c60",
       "version_major": 2,
       "version_minor": 0
      },
      "text/plain": [
       "VBox()"
      ]
     },
     "metadata": {},
     "output_type": "display_data"
    },
    {
     "data": {
      "application/vnd.jupyter.widget-view+json": {
       "model_id": "",
       "version_major": 2,
       "version_minor": 0
      },
      "text/plain": [
       "FloatProgress(value=0.0, bar_style='info', description='Progress:', layout=Layout(height='25px', width='50%'),…"
      ]
     },
     "metadata": {},
     "output_type": "display_data"
    },
    {
     "name": "stdout",
     "output_type": "stream",
     "text": [
      "[('carroll-alice', 26382), ('austen-emma', 158128), ('bible-kjv', 790029), ('blake-poems', 6817), ('burgess-busterbrown', 15864)]"
     ]
    }
   ],
   "source": [
    "docid_term_count = doc_id_term_token.map(lambda item: (item[0], 1,)).reduceByKey(lambda a,b: a+b) # [('carroll-alice', 26382), ('austen-emma', 158128), ('bible-kjv', 790029), \n",
    "docid_term_count.take(5)"
   ]
  },
  {
   "cell_type": "code",
   "execution_count": 10,
   "id": "f27b74b6",
   "metadata": {},
   "outputs": [
    {
     "data": {
      "application/vnd.jupyter.widget-view+json": {
       "model_id": "113500e5ca384dea9df374ed21941da2",
       "version_major": 2,
       "version_minor": 0
      },
      "text/plain": [
       "VBox()"
      ]
     },
     "metadata": {},
     "output_type": "display_data"
    },
    {
     "data": {
      "application/vnd.jupyter.widget-view+json": {
       "model_id": "",
       "version_major": 2,
       "version_minor": 0
      },
      "text/plain": [
       "FloatProgress(value=0.0, bar_style='info', description='Progress:', layout=Layout(height='25px', width='50%'),…"
      ]
     },
     "metadata": {},
     "output_type": "display_data"
    },
    {
     "name": "stdout",
     "output_type": "stream",
     "text": [
      "[('a', 10), ('aaron', 2), ('aaronites', 1), ('aarons', 2), ('aback', 1)]"
     ]
    }
   ],
   "source": [
    "term_idf = doc_id_term_token.distinct().map(lambda t: (t[1],1)).reduceByKey(lambda a,b: a+b).sortByKey(ascending=True)\n",
    "term_idf.take(5)\n",
    "# term_idf.take(5)\n",
    "#  [('a', 10), ('aaron', 2), ('aaronites', 1), ('aarons', 2), ('aback', 1)]"
   ]
  },
  {
   "cell_type": "code",
   "execution_count": 11,
   "id": "50255a10",
   "metadata": {},
   "outputs": [
    {
     "data": {
      "application/vnd.jupyter.widget-view+json": {
       "model_id": "cc3ea0225ed840e4beba52758864b72b",
       "version_major": 2,
       "version_minor": 0
      },
      "text/plain": [
       "VBox()"
      ]
     },
     "metadata": {},
     "output_type": "display_data"
    },
    {
     "data": {
      "application/vnd.jupyter.widget-view+json": {
       "model_id": "",
       "version_major": 2,
       "version_minor": 0
      },
      "text/plain": [
       "FloatProgress(value=0.0, bar_style='info', description='Progress:', layout=Layout(height='25px', width='50%'),…"
      ]
     },
     "metadata": {},
     "output_type": "display_data"
    },
    {
     "name": "stdout",
     "output_type": "stream",
     "text": [
      "[('carroll-alice', (('alices', 12), 26382)), ('carroll-alice', (('adventures', 6), 26382)), ('carroll-alice', (('in', 366), 26382)), ('carroll-alice', (('wonderland', 3), 26382)), ('carroll-alice', (('chapter', 12), 26382))]"
     ]
    }
   ],
   "source": [
    "doc_id_term_token_counts_temp = doc_id_term_token_counts.map(lambda t: (t[0][0],(t[0][1], t[1]),))\n",
    "doc_id_term_token_counts_temp.take(5) # [('austen-emma', ('emma', 751)), ('austen-emma', ('by', 567)), ('austen-emma', ('austen', 1)), ('austen-emma', ('volume', 3)), ('austen-emma', ('woodhouse', 263))]\n",
    "\n",
    "doc_id_term_token_counts_temp = doc_id_term_token_counts_temp.join(docid_term_count)\n",
    "doc_id_term_token_counts_temp.take(5)"
   ]
  },
  {
   "cell_type": "code",
   "execution_count": 12,
   "id": "18133d8d",
   "metadata": {},
   "outputs": [
    {
     "data": {
      "application/vnd.jupyter.widget-view+json": {
       "model_id": "3a77521caef14398a48010873ed43a09",
       "version_major": 2,
       "version_minor": 0
      },
      "text/plain": [
       "VBox()"
      ]
     },
     "metadata": {},
     "output_type": "display_data"
    },
    {
     "data": {
      "application/vnd.jupyter.widget-view+json": {
       "model_id": "",
       "version_major": 2,
       "version_minor": 0
      },
      "text/plain": [
       "FloatProgress(value=0.0, bar_style='info', description='Progress:', layout=Layout(height='25px', width='50%'),…"
      ]
     },
     "metadata": {},
     "output_type": "display_data"
    },
    {
     "name": "stdout",
     "output_type": "stream",
     "text": [
      "[('alices', (12, 'carroll-alice', 26382)), ('adventures', (6, 'carroll-alice', 26382)), ('in', (366, 'carroll-alice', 26382)), ('wonderland', (3, 'carroll-alice', 26382)), ('chapter', (12, 'carroll-alice', 26382))]"
     ]
    }
   ],
   "source": [
    "doc_id_term_token_counts_temp2 = doc_id_term_token_counts_temp.map(lambda t: (t[1][0][0],(t[1][0][1], t[0], t[1][1])))\n",
    "doc_id_term_token_counts_temp2.take(5)"
   ]
  },
  {
   "cell_type": "code",
   "execution_count": 13,
   "id": "7ea5eb38",
   "metadata": {},
   "outputs": [
    {
     "data": {
      "application/vnd.jupyter.widget-view+json": {
       "model_id": "14d5cdc5af8f472aa998eac0a914350b",
       "version_major": 2,
       "version_minor": 0
      },
      "text/plain": [
       "VBox()"
      ]
     },
     "metadata": {},
     "output_type": "display_data"
    },
    {
     "data": {
      "application/vnd.jupyter.widget-view+json": {
       "model_id": "",
       "version_major": 2,
       "version_minor": 0
      },
      "text/plain": [
       "FloatProgress(value=0.0, bar_style='info', description='Progress:', layout=Layout(height='25px', width='50%'),…"
      ]
     },
     "metadata": {},
     "output_type": "display_data"
    },
    {
     "name": "stdout",
     "output_type": "stream",
     "text": [
      "[('down', ((101, 'carroll-alice', 26382), 9)), ('down', ((1125, 'bible-kjv', 790029), 9)), ('down', ((123, 'chesterton-brown', 71624), 9)), ('down', ((361, 'melville-moby_dick', 211802), 9)), ('down', ((89, 'milton-paradise', 79645), 9))]"
     ]
    }
   ],
   "source": [
    "doc_id_term_token_counts_temp3 = doc_id_term_token_counts_temp2.join(term_idf)\n",
    "doc_id_term_token_counts_temp3.take(5)"
   ]
  },
  {
   "cell_type": "code",
   "execution_count": 14,
   "id": "eee37e95",
   "metadata": {},
   "outputs": [
    {
     "data": {
      "application/vnd.jupyter.widget-view+json": {
       "model_id": "a6b8f556278c43bf8dd859ae22302d97",
       "version_major": 2,
       "version_minor": 0
      },
      "text/plain": [
       "VBox()"
      ]
     },
     "metadata": {},
     "output_type": "display_data"
    },
    {
     "data": {
      "application/vnd.jupyter.widget-view+json": {
       "model_id": "",
       "version_major": 2,
       "version_minor": 0
      },
      "text/plain": [
       "FloatProgress(value=0.0, bar_style='info', description='Progress:', layout=Layout(height='25px', width='50%'),…"
      ]
     },
     "metadata": {},
     "output_type": "display_data"
    },
    {
     "name": "stdout",
     "output_type": "stream",
     "text": [
      "[('down', 9, 101, 'carroll-alice', 26382), ('down', 9, 1125, 'bible-kjv', 790029), ('down', 9, 123, 'chesterton-brown', 71624), ('down', 9, 361, 'melville-moby_dick', 211802), ('down', 9, 89, 'milton-paradise', 79645)]"
     ]
    }
   ],
   "source": [
    "all_joined = doc_id_term_token_counts_temp3.map(lambda t: (t[0],t[1][1],t[1][0][0],t[1][0][1],t[1][0][2],))\n",
    "all_joined.take(5)"
   ]
  },
  {
   "cell_type": "code",
   "execution_count": 15,
   "id": "7e75fcd8",
   "metadata": {},
   "outputs": [
    {
     "data": {
      "application/vnd.jupyter.widget-view+json": {
       "model_id": "d776f2a9980a46228f88b417da06bbf6",
       "version_major": 2,
       "version_minor": 0
      },
      "text/plain": [
       "VBox()"
      ]
     },
     "metadata": {},
     "output_type": "display_data"
    },
    {
     "data": {
      "application/vnd.jupyter.widget-view+json": {
       "model_id": "",
       "version_major": 2,
       "version_minor": 0
      },
      "text/plain": [
       "FloatProgress(value=0.0, bar_style='info', description='Progress:', layout=Layout(height='25px', width='50%'),…"
      ]
     },
     "metadata": {},
     "output_type": "display_data"
    },
    {
     "name": "stdout",
     "output_type": "stream",
     "text": [
      "[(('carroll-alice', 'down'), 425.3742029498227), (('bible-kjv', 'down'), 158.2220399504322), (('chesterton-brown', 'down'), 190.81127368852154), (('melville-moby_dick', 'down'), 189.3802282844879), (('milton-paradise', 'down'), 124.16208034263154), (('austen-emma', 'down'), 48.48392863165706), (('blake-poems', 'down'), 325.9824295470474), (('burgess-busterbrown', 'down'), 301.1710651650137), (('whitman-leaves', 'down'), 100.69802036846322), (('carroll-alice', 'rabbithole'), 113.71389583807141), (('carroll-alice', 'very'), 606.4741111363809), (('bible-kjv', 'very'), 36.14494601534318), (('chesterton-brown', 'very'), 288.54387728508135), (('melville-moby_dick', 'very'), 167.87167050148514), (('shakespeare-caesar', 'very'), 65.40115433037393)]"
     ]
    }
   ],
   "source": [
    "tfidf = all_joined.map(lambda t: ((t[3],t[0]), 1000000*((t[2]/t[4])/t[1])))\n",
    "tfidf.take(15)"
   ]
  },
  {
   "cell_type": "code",
   "execution_count": 16,
   "id": "a85e9247",
   "metadata": {},
   "outputs": [
    {
     "data": {
      "application/vnd.jupyter.widget-view+json": {
       "model_id": "3bc43f63f52342319555adc9797c02bd",
       "version_major": 2,
       "version_minor": 0
      },
      "text/plain": [
       "VBox()"
      ]
     },
     "metadata": {},
     "output_type": "display_data"
    },
    {
     "data": {
      "application/vnd.jupyter.widget-view+json": {
       "model_id": "",
       "version_major": 2,
       "version_minor": 0
      },
      "text/plain": [
       "FloatProgress(value=0.0, bar_style='info', description='Progress:', layout=Layout(height='25px', width='50%'),…"
      ]
     },
     "metadata": {},
     "output_type": "display_data"
    },
    {
     "name": "stdout",
     "output_type": "stream",
     "text": [
      "[('bible-kjv', 51),\n",
      " ('carroll-alice', 41),\n",
      " ('shakespeare-caesar', 31),\n",
      " ('whitman-leaves', 30),\n",
      " ('chesterton-brown', 26)]"
     ]
    }
   ],
   "source": [
    "from pprint import pprint\n",
    "def relavence(str_to_check):\n",
    "    split_string = str_to_check.split()\n",
    "    tokens = list(filter(lambda t: t != \"\", [\"\".join(filter(lambda c: 97 <= ord(c) <= 122, x.lower())) for x in split_string]))\n",
    "    matched_tfidf = tfidf.filter(lambda t: t[0][1] in (tokens)).map(lambda t: (t[0][0], t[1])).reduceByKey(lambda a,b: int((a+b)/(len(split_string)))).sortBy(lambda t: -t[1]).take(5)\n",
    "    \n",
    "    return matched_tfidf\n",
    "\n",
    "pprint(relavence(\"dead KING garden!\"))"
   ]
  },
  {
   "cell_type": "code",
   "execution_count": 17,
   "id": "2af1868a",
   "metadata": {},
   "outputs": [
    {
     "data": {
      "application/vnd.jupyter.widget-view+json": {
       "model_id": "b272c65bb92f4d5ba277d1bf3ceff625",
       "version_major": 2,
       "version_minor": 0
      },
      "text/plain": [
       "VBox()"
      ]
     },
     "metadata": {},
     "output_type": "display_data"
    },
    {
     "data": {
      "application/vnd.jupyter.widget-view+json": {
       "model_id": "",
       "version_major": 2,
       "version_minor": 0
      },
      "text/plain": [
       "FloatProgress(value=0.0, bar_style='info', description='Progress:', layout=Layout(height='25px', width='50%'),…"
      ]
     },
     "metadata": {},
     "output_type": "display_data"
    },
    {
     "name": "stdout",
     "output_type": "stream",
     "text": [
      "[('bible-kjv', 371),\n",
      " ('carroll-alice', 342),\n",
      " ('blake-poems', 173),\n",
      " ('chesterton-brown', 160),\n",
      " ('milton-paradise', 112)]"
     ]
    }
   ],
   "source": [
    "from pprint import pprint\n",
    "def relavence_like_example(str_to_check):\n",
    "    split_string = str_to_check.split()\n",
    "    tokens = list(filter(lambda t: t != \"\", [\"\".join(filter(lambda c: 97 <= ord(c) <= 122, x.lower())) for x in split_string]))\n",
    "    matched_tfidf = tfidf.filter(lambda t: t[0][1] in (tokens)).map(lambda t: (t[0][0], t[1])).reduceByKey(lambda a,b: int((a+b))).sortBy(lambda t: -t[1]).take(5)\n",
    "    \n",
    "    return matched_tfidf\n",
    "\n",
    "pprint(relavence_like_example(\"dead KING garden!\"))"
   ]
  },
  {
   "cell_type": "code",
   "execution_count": null,
   "id": "3d1150cd",
   "metadata": {},
   "outputs": [],
   "source": []
  }
 ],
 "metadata": {
  "kernelspec": {
   "display_name": "PySpark",
   "language": "",
   "name": "pysparkkernel"
  },
  "language_info": {
   "codemirror_mode": {
    "name": "python",
    "version": 3
   },
   "mimetype": "text/x-python",
   "name": "pyspark",
   "pygments_lexer": "python3"
  }
 },
 "nbformat": 4,
 "nbformat_minor": 5
}
