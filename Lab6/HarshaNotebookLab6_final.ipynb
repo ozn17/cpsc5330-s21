{
 "cells": [
  {
   "cell_type": "code",
   "execution_count": 32,
   "id": "36fd622f",
   "metadata": {},
   "outputs": [
    {
     "data": {
      "application/vnd.jupyter.widget-view+json": {
       "model_id": "71737232606d4d98a4504323a869bafc",
       "version_major": 2,
       "version_minor": 0
      },
      "text/plain": [
       "VBox()"
      ]
     },
     "metadata": {},
     "output_type": "display_data"
    },
    {
     "data": {
      "application/vnd.jupyter.widget-view+json": {
       "model_id": "",
       "version_major": 2,
       "version_minor": 0
      },
      "text/plain": [
       "FloatProgress(value=0.0, bar_style='info', description='Progress:', layout=Layout(height='25px', width='50%'),…"
      ]
     },
     "metadata": {},
     "output_type": "display_data"
    },
    {
     "name": "stdout",
     "output_type": "stream",
     "text": [
      "<SparkContext master=yarn appName=livy-session-3>"
     ]
    }
   ],
   "source": [
    "sc"
   ]
  },
  {
   "cell_type": "code",
   "execution_count": 33,
   "id": "30def90c",
   "metadata": {},
   "outputs": [
    {
     "data": {
      "application/vnd.jupyter.widget-view+json": {
       "model_id": "6e9e3e72fa0a421191d2b50bb8766c8c",
       "version_major": 2,
       "version_minor": 0
      },
      "text/plain": [
       "VBox()"
      ]
     },
     "metadata": {},
     "output_type": "display_data"
    },
    {
     "data": {
      "application/vnd.jupyter.widget-view+json": {
       "model_id": "",
       "version_major": 2,
       "version_minor": 0
      },
      "text/plain": [
       "FloatProgress(value=0.0, bar_style='info', description='Progress:', layout=Layout(height='25px', width='50%'),…"
      ]
     },
     "metadata": {},
     "output_type": "display_data"
    }
   ],
   "source": [
    "f = sc.wholeTextFiles('s3://cpsc5330s21/data-input/textcorpora-SMALL/')"
   ]
  },
  {
   "cell_type": "code",
   "execution_count": 34,
   "id": "fc94115b",
   "metadata": {},
   "outputs": [
    {
     "data": {
      "application/vnd.jupyter.widget-view+json": {
       "model_id": "d2dc53f379db4749997cba397aecd082",
       "version_major": 2,
       "version_minor": 0
      },
      "text/plain": [
       "VBox()"
      ]
     },
     "metadata": {},
     "output_type": "display_data"
    },
    {
     "data": {
      "application/vnd.jupyter.widget-view+json": {
       "model_id": "",
       "version_major": 2,
       "version_minor": 0
      },
      "text/plain": [
       "FloatProgress(value=0.0, bar_style='info', description='Progress:', layout=Layout(height='25px', width='50%'),…"
      ]
     },
     "metadata": {},
     "output_type": "display_data"
    }
   ],
   "source": [
    "import re\n",
    "def filename(path):\n",
    "  return re.match('s3://cpsc5330s21/data-input/textcorpora-SMALL/(.+)\\.txt', path)[1]"
   ]
  },
  {
   "cell_type": "code",
   "execution_count": 35,
   "id": "95f4d8f6",
   "metadata": {},
   "outputs": [
    {
     "data": {
      "application/vnd.jupyter.widget-view+json": {
       "model_id": "f12d3d81ca4f407487ecf69fadb63d16",
       "version_major": 2,
       "version_minor": 0
      },
      "text/plain": [
       "VBox()"
      ]
     },
     "metadata": {},
     "output_type": "display_data"
    },
    {
     "data": {
      "application/vnd.jupyter.widget-view+json": {
       "model_id": "",
       "version_major": 2,
       "version_minor": 0
      },
      "text/plain": [
       "FloatProgress(value=0.0, bar_style='info', description='Progress:', layout=Layout(height='25px', width='50%'),…"
      ]
     },
     "metadata": {},
     "output_type": "display_data"
    }
   ],
   "source": [
    "doc_id_and_all_its_terms = f.map(lambda t: (filename(t[0]), t[1].split()))"
   ]
  },
  {
   "cell_type": "code",
   "execution_count": 36,
   "id": "a2ca0852",
   "metadata": {},
   "outputs": [
    {
     "data": {
      "application/vnd.jupyter.widget-view+json": {
       "model_id": "df67412539aa414b95c7ff393151c0ee",
       "version_major": 2,
       "version_minor": 0
      },
      "text/plain": [
       "VBox()"
      ]
     },
     "metadata": {},
     "output_type": "display_data"
    },
    {
     "data": {
      "application/vnd.jupyter.widget-view+json": {
       "model_id": "",
       "version_major": 2,
       "version_minor": 0
      },
      "text/plain": [
       "FloatProgress(value=0.0, bar_style='info', description='Progress:', layout=Layout(height='25px', width='50%'),…"
      ]
     },
     "metadata": {},
     "output_type": "display_data"
    }
   ],
   "source": [
    "def tokenPairs(docid, tokens):\n",
    "  out = []\n",
    "  for token in tokens:\n",
    "    item = \"\".join(filter(lambda c: 97 <= ord(c) <= 122, token.lower()))\n",
    "    if item != \"\":\n",
    "        out.append((docid, item,))\n",
    "  return out"
   ]
  },
  {
   "cell_type": "code",
   "execution_count": 37,
   "id": "1abcf456",
   "metadata": {},
   "outputs": [
    {
     "data": {
      "application/vnd.jupyter.widget-view+json": {
       "model_id": "3089d62b976641308d7f809867b4f4d4",
       "version_major": 2,
       "version_minor": 0
      },
      "text/plain": [
       "VBox()"
      ]
     },
     "metadata": {},
     "output_type": "display_data"
    },
    {
     "data": {
      "application/vnd.jupyter.widget-view+json": {
       "model_id": "",
       "version_major": 2,
       "version_minor": 0
      },
      "text/plain": [
       "FloatProgress(value=0.0, bar_style='info', description='Progress:', layout=Layout(height='25px', width='50%'),…"
      ]
     },
     "metadata": {},
     "output_type": "display_data"
    }
   ],
   "source": [
    "doc_id_term_token = doc_id_and_all_its_terms.flatMap(lambda t: tokenPairs(t[0], t[1])) # [('austen-emma', 'emma'), ('austen-emma', 'by'), ('austen-emma', 'jane'),"
   ]
  },
  {
   "cell_type": "code",
   "execution_count": 38,
   "id": "ded8f0f2",
   "metadata": {},
   "outputs": [
    {
     "data": {
      "application/vnd.jupyter.widget-view+json": {
       "model_id": "bf5103df9361438485f279f61aa4752a",
       "version_major": 2,
       "version_minor": 0
      },
      "text/plain": [
       "VBox()"
      ]
     },
     "metadata": {},
     "output_type": "display_data"
    },
    {
     "data": {
      "application/vnd.jupyter.widget-view+json": {
       "model_id": "",
       "version_major": 2,
       "version_minor": 0
      },
      "text/plain": [
       "FloatProgress(value=0.0, bar_style='info', description='Progress:', layout=Layout(height='25px', width='50%'),…"
      ]
     },
     "metadata": {},
     "output_type": "display_data"
    },
    {
     "name": "stdout",
     "output_type": "stream",
     "text": [
      "[(('austen-emma', 'emma'), 751), (('austen-emma', 'by'), 567), (('austen-emma', 'austen'), 1), (('austen-emma', 'volume'), 3), (('austen-emma', 'woodhouse'), 263)]"
     ]
    }
   ],
   "source": [
    "# make term count per document\n",
    "doc_id_term_token_counts = doc_id_term_token.map(lambda item: ((item[0] ,item[1]), 1,)).reduceByKey(lambda a,b: a+b) # [(('austen-emma', 'emma'), 751), (('austen-emma', 'by'), 567), (('austen-emma', 'austen'), 1),\n",
    "doc_id_term_token_counts.take(5)"
   ]
  },
  {
   "cell_type": "code",
   "execution_count": 39,
   "id": "ad273503",
   "metadata": {},
   "outputs": [
    {
     "data": {
      "application/vnd.jupyter.widget-view+json": {
       "model_id": "9fca85d50cf14dff9bcaddba4984448f",
       "version_major": 2,
       "version_minor": 0
      },
      "text/plain": [
       "VBox()"
      ]
     },
     "metadata": {},
     "output_type": "display_data"
    },
    {
     "data": {
      "application/vnd.jupyter.widget-view+json": {
       "model_id": "",
       "version_major": 2,
       "version_minor": 0
      },
      "text/plain": [
       "FloatProgress(value=0.0, bar_style='info', description='Progress:', layout=Layout(height='25px', width='50%'),…"
      ]
     },
     "metadata": {},
     "output_type": "display_data"
    },
    {
     "name": "stdout",
     "output_type": "stream",
     "text": [
      "[('carroll-alice', 26382), ('austen-emma', 158128), ('bible-kjv', 790029), ('blake-poems', 6817), ('burgess-busterbrown', 15864)]"
     ]
    }
   ],
   "source": [
    "# count all the terms in the document\n",
    "docid_term_count = doc_id_term_token.map(lambda item: (item[0], 1,)).reduceByKey(lambda a,b: a+b) # [('carroll-alice', 26382), ('austen-emma', 158128), ('bible-kjv', 790029), \n",
    "docid_term_count.take(5)"
   ]
  },
  {
   "cell_type": "code",
   "execution_count": 40,
   "id": "0ed628cc",
   "metadata": {},
   "outputs": [
    {
     "data": {
      "application/vnd.jupyter.widget-view+json": {
       "model_id": "a988c9309bd14630a9e082525b9eb887",
       "version_major": 2,
       "version_minor": 0
      },
      "text/plain": [
       "VBox()"
      ]
     },
     "metadata": {},
     "output_type": "display_data"
    },
    {
     "data": {
      "application/vnd.jupyter.widget-view+json": {
       "model_id": "",
       "version_major": 2,
       "version_minor": 0
      },
      "text/plain": [
       "FloatProgress(value=0.0, bar_style='info', description='Progress:', layout=Layout(height='25px', width='50%'),…"
      ]
     },
     "metadata": {},
     "output_type": "display_data"
    },
    {
     "name": "stdout",
     "output_type": "stream",
     "text": [
      "[('a', 10), ('aaron', 2), ('aaronites', 1), ('aarons', 2), ('aback', 1)]"
     ]
    }
   ],
   "source": [
    "# form term idf\n",
    "term_idf = doc_id_term_token.distinct().map(lambda t: (t[1],1)).reduceByKey(lambda a,b: a+b).sortByKey(ascending=True) #  [('a', 10), ('aaron', 2), ('aaronites', 1), ('aarons', 2), ('aback', 1)]\n",
    "term_idf.take(5)"
   ]
  },
  {
   "cell_type": "code",
   "execution_count": 41,
   "id": "8b0ea288",
   "metadata": {},
   "outputs": [
    {
     "data": {
      "application/vnd.jupyter.widget-view+json": {
       "model_id": "314495265137406a9632b84c166480f0",
       "version_major": 2,
       "version_minor": 0
      },
      "text/plain": [
       "VBox()"
      ]
     },
     "metadata": {},
     "output_type": "display_data"
    },
    {
     "data": {
      "application/vnd.jupyter.widget-view+json": {
       "model_id": "",
       "version_major": 2,
       "version_minor": 0
      },
      "text/plain": [
       "FloatProgress(value=0.0, bar_style='info', description='Progress:', layout=Layout(height='25px', width='50%'),…"
      ]
     },
     "metadata": {},
     "output_type": "display_data"
    },
    {
     "name": "stdout",
     "output_type": "stream",
     "text": [
      "[(('carroll-alice', 'down'), 425.3742029498227), (('bible-kjv', 'down'), 158.2220399504322), (('chesterton-brown', 'down'), 190.81127368852154), (('melville-moby_dick', 'down'), 189.3802282844879), (('milton-paradise', 'down'), 124.16208034263154), (('austen-emma', 'down'), 48.48392863165706), (('blake-poems', 'down'), 325.9824295470474), (('burgess-busterbrown', 'down'), 301.1710651650137), (('whitman-leaves', 'down'), 100.69802036846322), (('carroll-alice', 'rabbithole'), 113.71389583807141), (('carroll-alice', 'very'), 606.4741111363809), (('bible-kjv', 'very'), 36.14494601534318), (('chesterton-brown', 'very'), 288.54387728508135), (('melville-moby_dick', 'very'), 167.87167050148514), (('shakespeare-caesar', 'very'), 65.40115433037393), (('austen-emma', 'very'), 834.0641055909699), (('blake-poems', 'very'), 48.89736443205711), (('burgess-busterbrown', 'very'), 602.3421303300274), (('whitman-leaves', 'very'), 35.70202540336423), (('carroll-alice', 'of'), 1925.555302858009), (('bible-kjv', 'of'), 4388.446500065187), (('chesterton-brown', 'of'), 2912.4315871774825), (('melville-moby_dick', 'of'), 3105.7308240715383), (('milton-paradise', 'of'), 2570.155063092473), (('shakespeare-caesar', 'of'), 1736.4006474714279), (('austen-emma', 'of'), 2702.8736213700295), (('blake-poems', 'of'), 2141.7045621241014), (('burgess-busterbrown', 'of'), 2155.824508320726), (('whitman-leaves', 'of'), 3499.89701338826), (('carroll-alice', 'into'), 253.96103403835951), (('bible-kjv', 'into'), 255.0539284000967), (('chesterton-brown', 'into'), 195.46520719311962), (('melville-moby_dick', 'into'), 246.9287353282783), (('milton-paradise', 'into'), 134.34616108983613), (('shakespeare-caesar', 'into'), 68.67121204689262), (('austen-emma', 'into'), 103.08104826469695), (('blake-poems', 'into'), 73.34604664808566), (('burgess-busterbrown', 'into'), 132.375189107413), (('whitman-leaves', 'into'), 30.48403707518023), (('carroll-alice', 'book'), 29.48138040246296), (('bible-kjv', 'book'), 30.097348043904432), (('chesterton-brown', 'book'), 27.923601027588518), (('melville-moby_dick', 'book'), 29.90214130807704), (('milton-paradise', 'book'), 19.531113761762263), (('austen-emma', 'book'), 5.621325058742847), (('blake-poems', 'book'), 97.79472886411422), (('burgess-busterbrown', 'book'), 14.007956519302965), (('whitman-leaves', 'book'), 51.26444673303582), (('carroll-alice', 'no'), 329.7702979304071), (('bible-kjv', 'no'), 176.449218952722), (('chesterton-brown', 'no'), 210.8231877582933), (('melville-moby_dick', 'no'), 269.59141084597877), (('milton-paradise', 'no'), 247.34760499717495), (('shakespeare-caesar', 'no'), 456.17305145435813), (('austen-emma', 'no'), 429.3989679247192), (('blake-poems', 'no'), 264.0457679331084), (('burgess-busterbrown', 'no'), 321.482602118003)]"
     ]
    }
   ],
   "source": [
    "# combined function to form tfidf\n",
    "tfidf = doc_id_term_token_counts.map(lambda t: (t[0][0],(t[0][1], t[1]),)).\\\n",
    "    join(docid_term_count).\\\n",
    "    map(lambda t: (t[1][0][0],(t[1][0][1], t[0], t[1][1]))).\\\n",
    "    join(term_idf).\\\n",
    "    map(lambda t: (t[0],t[1][1],t[1][0][0],t[1][0][1],t[1][0][2],)).\\\n",
    "    map(lambda t: ((t[3],t[0]), 1000000*((t[2]/t[4])/t[1])))\n",
    "    \n",
    "tfidf.take(57)"
   ]
  },
  {
   "cell_type": "code",
   "execution_count": 42,
   "id": "588e2331",
   "metadata": {},
   "outputs": [
    {
     "data": {
      "application/vnd.jupyter.widget-view+json": {
       "model_id": "e0f205a3a34b44d4a0250399f4e605d9",
       "version_major": 2,
       "version_minor": 0
      },
      "text/plain": [
       "VBox()"
      ]
     },
     "metadata": {},
     "output_type": "display_data"
    },
    {
     "data": {
      "application/vnd.jupyter.widget-view+json": {
       "model_id": "",
       "version_major": 2,
       "version_minor": 0
      },
      "text/plain": [
       "FloatProgress(value=0.0, bar_style='info', description='Progress:', layout=Layout(height='25px', width='50%'),…"
      ]
     },
     "metadata": {},
     "output_type": "display_data"
    },
    {
     "name": "stdout",
     "output_type": "stream",
     "text": [
      "[(('austen-emma', 'a'), 1943.3623393706364), (('austen-emma', 'abbey'), 145.45178589497118), (('austen-emma', 'abbeymill'), 44.26793483759992), (('austen-emma', 'abbeyoh'), 6.323990691085703), (('austen-emma', 'abbots'), 6.323990691085703)]"
     ]
    }
   ],
   "source": [
    "# tfidf with highest values \n",
    "tfidf.takeOrdered(5)"
   ]
  },
  {
   "cell_type": "code",
   "execution_count": 43,
   "id": "14bead63",
   "metadata": {},
   "outputs": [
    {
     "data": {
      "application/vnd.jupyter.widget-view+json": {
       "model_id": "5fb345a5bec24dd2b145ca37403d2842",
       "version_major": 2,
       "version_minor": 0
      },
      "text/plain": [
       "VBox()"
      ]
     },
     "metadata": {},
     "output_type": "display_data"
    },
    {
     "data": {
      "application/vnd.jupyter.widget-view+json": {
       "model_id": "",
       "version_major": 2,
       "version_minor": 0
      },
      "text/plain": [
       "FloatProgress(value=0.0, bar_style='info', description='Progress:', layout=Layout(height='25px', width='50%'),…"
      ]
     },
     "metadata": {},
     "output_type": "display_data"
    },
    {
     "name": "stdout",
     "output_type": "stream",
     "text": [
      "[(('bible-kjv', 'has'), 0.12657763196034574), (('bible-kjv', 'forgot'), 0.12657763196034574), (('bible-kjv', 'shade'), 0.14064181328927305), (('bible-kjv', 'share'), 0.14064181328927305), (('bible-kjv', 'its'), 0.14064181328927305)]"
     ]
    }
   ],
   "source": [
    "# tfidf with lowest values \n",
    "tfidf.takeOrdered(5, lambda x: x[1])"
   ]
  },
  {
   "cell_type": "code",
   "execution_count": 44,
   "id": "7a82a9fd",
   "metadata": {},
   "outputs": [
    {
     "data": {
      "application/vnd.jupyter.widget-view+json": {
       "model_id": "6a32cb65a0cf4ecf9ace00491892d6a9",
       "version_major": 2,
       "version_minor": 0
      },
      "text/plain": [
       "VBox()"
      ]
     },
     "metadata": {},
     "output_type": "display_data"
    },
    {
     "data": {
      "application/vnd.jupyter.widget-view+json": {
       "model_id": "",
       "version_major": 2,
       "version_minor": 0
      },
      "text/plain": [
       "FloatProgress(value=0.0, bar_style='info', description='Progress:', layout=Layout(height='25px', width='50%'),…"
      ]
     },
     "metadata": {},
     "output_type": "display_data"
    },
    {
     "name": "stdout",
     "output_type": "stream",
     "text": [
      "[('bible-kjv', 51),\n",
      " ('carroll-alice', 41),\n",
      " ('shakespeare-caesar', 31),\n",
      " ('whitman-leaves', 30),\n",
      " ('chesterton-brown', 26)]"
     ]
    }
   ],
   "source": [
    "from pprint import pprint\n",
    "def relavence(str_to_check):\n",
    "    split_string = str_to_check.split()\n",
    "    tokens = list(filter(lambda t: t != \"\", [\"\".join(filter(lambda c: 97 <= ord(c) <= 122, x.lower())) for x in split_string]))\n",
    "    matched_tfidf = tfidf.filter(lambda t: t[0][1] in (tokens)).map(lambda t: (t[0][0], t[1])).reduceByKey(lambda a,b: int((a+b)/(len(split_string)))).sortBy(lambda t: -t[1]).take(5)\n",
    "    \n",
    "    return matched_tfidf\n",
    "\n",
    "pprint(relavence(\"dead KING garden!\"))"
   ]
  },
  {
   "cell_type": "code",
   "execution_count": 45,
   "id": "525e4710",
   "metadata": {},
   "outputs": [
    {
     "data": {
      "application/vnd.jupyter.widget-view+json": {
       "model_id": "e2cb650dcd3544569234fa8394327447",
       "version_major": 2,
       "version_minor": 0
      },
      "text/plain": [
       "VBox()"
      ]
     },
     "metadata": {},
     "output_type": "display_data"
    },
    {
     "data": {
      "application/vnd.jupyter.widget-view+json": {
       "model_id": "",
       "version_major": 2,
       "version_minor": 0
      },
      "text/plain": [
       "FloatProgress(value=0.0, bar_style='info', description='Progress:', layout=Layout(height='25px', width='50%'),…"
      ]
     },
     "metadata": {},
     "output_type": "display_data"
    },
    {
     "name": "stdout",
     "output_type": "stream",
     "text": [
      "[('bible-kjv', 371),\n",
      " ('carroll-alice', 342),\n",
      " ('blake-poems', 173),\n",
      " ('chesterton-brown', 160),\n",
      " ('milton-paradise', 112)]"
     ]
    }
   ],
   "source": [
    "from pprint import pprint\n",
    "def relavence_like_example(str_to_check):\n",
    "    split_string = str_to_check.split()\n",
    "    tokens = list(filter(lambda t: t != \"\", [\"\".join(filter(lambda c: 97 <= ord(c) <= 122, x.lower())) for x in split_string]))\n",
    "    matched_tfidf = tfidf.filter(lambda t: t[0][1] in (tokens)).map(lambda t: (t[0][0], t[1])).reduceByKey(lambda a,b: int((a+b))).sortBy(lambda t: -t[1]).take(5)\n",
    "    \n",
    "    return matched_tfidf\n",
    "\n",
    "pprint(relavence_like_example(\"dead KING garden!\"))"
   ]
  },
  {
   "cell_type": "code",
   "execution_count": null,
   "id": "da6fd633",
   "metadata": {},
   "outputs": [],
   "source": []
  }
 ],
 "metadata": {
  "kernelspec": {
   "display_name": "PySpark",
   "language": "",
   "name": "pysparkkernel"
  },
  "language_info": {
   "codemirror_mode": {
    "name": "python",
    "version": 3
   },
   "mimetype": "text/x-python",
   "name": "pyspark",
   "pygments_lexer": "python3"
  }
 },
 "nbformat": 4,
 "nbformat_minor": 5
}
