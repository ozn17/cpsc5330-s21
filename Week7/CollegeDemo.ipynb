{
 "cells": [
  {
   "cell_type": "markdown",
   "metadata": {},
   "source": [
    "### Lab Exercise\n",
    "There are two edited versions of the \"college data files\" in the repository;  one for 2015/2016 and one for 2017/2018.\n",
    "\n",
    "The fields are the following:\n",
    "*  Unique ID\n",
    "*  Name\n",
    "*  City\n",
    "*  State\n",
    "*  Zip\n",
    "*  Admission rate\n",
    "*  Average SAT score\n",
    "*  Enrollment\n",
    "*  CostA\n",
    "*  CostP\n",
    "\n",
    "The last two break down cost to public and private universities.  If one is non-null, the other should be null.\n",
    "If both are null, that's a missing value.  If both are non-null,  use either value."
   ]
  },
  {
   "cell_type": "code",
   "execution_count": 2,
   "metadata": {},
   "outputs": [],
   "source": [
    "year1516 = sc.textFile('/FileStore/tables/college/MERGED2015_16_PP.csv')"
   ]
  },
  {
   "cell_type": "code",
   "execution_count": 3,
   "metadata": {},
   "outputs": [],
   "source": [
    "# Print the first 5 records (unparsed)\n"
   ]
  },
  {
   "cell_type": "code",
   "execution_count": 4,
   "metadata": {},
   "outputs": [],
   "source": [
    "#  This is helper code -- the first is because input records will have lots of fields, \n",
    "#  and this allows you to access fields by name.\n",
    "#  For example, if  *record* is a record read in from the file and split on commas, then \n",
    "#    *getValue(record, 'zipcode')*  should return the zipcode field for that record\n",
    "\n",
    "def getValue(record, fieldName):\n",
    "  labels = ('id', 'name', 'city', 'state', 'zipcode', 'admRate', 'satAvg', 'enrollment', 'costA', 'costP')\n",
    "  return record[labels.index(fieldName)]\n",
    "\n",
    "#  Input is a record and field name, which should be the name of a numeric-valued field in the record\n",
    "\n",
    "def fieldToNumber(record, fieldName):\n",
    "  try:\n",
    "    return float(getValue(record, fieldName))\n",
    "  except:\n",
    "    return None\n"
   ]
  },
  {
   "cell_type": "code",
   "execution_count": 5,
   "metadata": {},
   "outputs": [],
   "source": [
    "# Create an RDD parsed1516 that has the parsed file (i.e. each record is a list of fields)\n",
    "# and print the first two records.  here is sample output\n"
   ]
  },
  {
   "cell_type": "markdown",
   "metadata": {},
   "source": [
    "<pre>\n",
    "Out[43]: [['100654',\n",
    "  'Alabama A & M University',\n",
    "  'Normal',\n",
    "  'AL',\n",
    "  '35762',\n",
    "  '0.653841286',\n",
    "  '850',\n",
    "  '4348',\n",
    "  '20809',\n",
    "  'NULL'],\n",
    " ['100663',\n",
    "  'University of Alabama at Birmingham',\n",
    "  'Birmingham',\n",
    "  'AL',\n",
    "  '35294-0110',\n",
    "  '0.604275287',\n",
    "  '1147',\n",
    "  '11269',\n",
    "  '22232',\n",
    "  'NULL']]\n",
    "</pre>"
   ]
  },
  {
   "cell_type": "code",
   "execution_count": 7,
   "metadata": {},
   "outputs": [],
   "source": [
    "# How many records are there in the data set?"
   ]
  },
  {
   "cell_type": "code",
   "execution_count": 8,
   "metadata": {},
   "outputs": [],
   "source": [
    "# How many records are there from the state of California?"
   ]
  },
  {
   "cell_type": "code",
   "execution_count": 9,
   "metadata": {},
   "outputs": [],
   "source": [
    "# What percentage of the records have a non-null enrollment?\n"
   ]
  },
  {
   "cell_type": "markdown",
   "metadata": {},
   "source": [
    "Getting this far is worth 1 point.  Descend for 2 points"
   ]
  },
  {
   "cell_type": "code",
   "execution_count": 11,
   "metadata": {},
   "outputs": [],
   "source": [
    "# Here's a helper function that will compute the cost field of a record\n",
    "\n",
    "def cost(record):\n",
    "  f1 = fieldToNumber(record, 'costA')\n",
    "  f2 = fieldToNumber(record, 'costP')\n",
    "  if f1:\n",
    "    return f1\n",
    "  if f2:\n",
    "    return f2\n",
    "  return None\n"
   ]
  },
  {
   "cell_type": "code",
   "execution_count": 12,
   "metadata": {},
   "outputs": [],
   "source": [
    "# What is the name and cost of the 5 cheapest universities\n",
    "# What is the name and cost of the 5 most expensive universities\n"
   ]
  },
  {
   "cell_type": "code",
   "execution_count": 13,
   "metadata": {},
   "outputs": [],
   "source": [
    "#  Create an RDD with (state, num_universities), and print the first 5\n"
   ]
  },
  {
   "cell_type": "markdown",
   "metadata": {},
   "source": [
    "This next one is hard.  5 points if you get it!"
   ]
  },
  {
   "cell_type": "code",
   "execution_count": 15,
   "metadata": {},
   "outputs": [],
   "source": [
    "# What is the average enrollment per state?  Create an RDD with (state, average_enrollment);  print the 5 states with highest and 5 states with lowest\n"
   ]
  }
 ],
 "metadata": {
  "kernelspec": {
   "display_name": "Python 3",
   "language": "python",
   "name": "python3"
  },
  "language_info": {
   "codemirror_mode": {
    "name": "ipython",
    "version": 3
   },
   "file_extension": ".py",
   "mimetype": "text/x-python",
   "name": "python",
   "nbconvert_exporter": "python",
   "pygments_lexer": "ipython3",
   "version": "3.7.0"
  },
  "name": "CollegeLab",
  "notebookId": 3570948259925304
 },
 "nbformat": 4,
 "nbformat_minor": 1
}
